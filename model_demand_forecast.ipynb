{
  "nbformat": 4,
  "nbformat_minor": 0,
  "metadata": {
    "colab": {
      "name": "model_demand_forecast.ipynb",
      "provenance": []
    },
    "kernelspec": {
      "name": "python3",
      "display_name": "Python 3"
    },
    "language_info": {
      "name": "python"
    }
  },
  "cells": [
    {
      "cell_type": "code",
      "execution_count": 51,
      "metadata": {
        "id": "Sn-Sw-bEqIaU"
      },
      "outputs": [],
      "source": [
        "import pandas as pd\n",
        "import numpy as np"
      ]
    },
    {
      "cell_type": "code",
      "source": [
        "df=pd.read_csv('/content/drive/MyDrive/dataset/demand-forecasting-kernels-only/final_train.csv')"
      ],
      "metadata": {
        "id": "vumLr2fAqZut"
      },
      "execution_count": 52,
      "outputs": []
    },
    {
      "cell_type": "code",
      "source": [
        "df.head()"
      ],
      "metadata": {
        "colab": {
          "base_uri": "https://localhost:8080/",
          "height": 270
        },
        "id": "skt7HYhfqyIb",
        "outputId": "06b01769-ee02-4814-a54b-e607e9835594"
      },
      "execution_count": 54,
      "outputs": [
        {
          "output_type": "execute_result",
          "data": {
            "text/html": [
              "\n",
              "  <div id=\"df-7cf635d8-fe91-46e6-8c76-c0d9c45d9331\">\n",
              "    <div class=\"colab-df-container\">\n",
              "      <div>\n",
              "<style scoped>\n",
              "    .dataframe tbody tr th:only-of-type {\n",
              "        vertical-align: middle;\n",
              "    }\n",
              "\n",
              "    .dataframe tbody tr th {\n",
              "        vertical-align: top;\n",
              "    }\n",
              "\n",
              "    .dataframe thead th {\n",
              "        text-align: right;\n",
              "    }\n",
              "</style>\n",
              "<table border=\"1\" class=\"dataframe\">\n",
              "  <thead>\n",
              "    <tr style=\"text-align: right;\">\n",
              "      <th></th>\n",
              "      <th>date</th>\n",
              "      <th>store</th>\n",
              "      <th>item</th>\n",
              "      <th>sales</th>\n",
              "      <th>day</th>\n",
              "      <th>year</th>\n",
              "      <th>month</th>\n",
              "      <th>datetime</th>\n",
              "      <th>weekday</th>\n",
              "      <th>weekday_name</th>\n",
              "      <th>sales_lag_91</th>\n",
              "      <th>sales_lag_98</th>\n",
              "      <th>sales_lag_105</th>\n",
              "      <th>sales_lag_112</th>\n",
              "      <th>sales_lag_119</th>\n",
              "      <th>sales_lag_126</th>\n",
              "      <th>sales_lag_182</th>\n",
              "      <th>sales_lag_364</th>\n",
              "      <th>sales_lag_546</th>\n",
              "      <th>sales_lag_728</th>\n",
              "    </tr>\n",
              "  </thead>\n",
              "  <tbody>\n",
              "    <tr>\n",
              "      <th>0</th>\n",
              "      <td>2013-01-01</td>\n",
              "      <td>1</td>\n",
              "      <td>1</td>\n",
              "      <td>2.639057</td>\n",
              "      <td>1</td>\n",
              "      <td>2013</td>\n",
              "      <td>1</td>\n",
              "      <td>2013-01-01</td>\n",
              "      <td>1</td>\n",
              "      <td>Tuesday</td>\n",
              "      <td>NaN</td>\n",
              "      <td>NaN</td>\n",
              "      <td>NaN</td>\n",
              "      <td>NaN</td>\n",
              "      <td>NaN</td>\n",
              "      <td>NaN</td>\n",
              "      <td>NaN</td>\n",
              "      <td>NaN</td>\n",
              "      <td>NaN</td>\n",
              "      <td>NaN</td>\n",
              "    </tr>\n",
              "    <tr>\n",
              "      <th>1</th>\n",
              "      <td>2013-01-02</td>\n",
              "      <td>1</td>\n",
              "      <td>1</td>\n",
              "      <td>2.484907</td>\n",
              "      <td>2</td>\n",
              "      <td>2013</td>\n",
              "      <td>1</td>\n",
              "      <td>2013-01-02</td>\n",
              "      <td>2</td>\n",
              "      <td>Wednesday</td>\n",
              "      <td>NaN</td>\n",
              "      <td>NaN</td>\n",
              "      <td>NaN</td>\n",
              "      <td>NaN</td>\n",
              "      <td>NaN</td>\n",
              "      <td>NaN</td>\n",
              "      <td>NaN</td>\n",
              "      <td>NaN</td>\n",
              "      <td>NaN</td>\n",
              "      <td>NaN</td>\n",
              "    </tr>\n",
              "    <tr>\n",
              "      <th>2</th>\n",
              "      <td>2013-01-03</td>\n",
              "      <td>1</td>\n",
              "      <td>1</td>\n",
              "      <td>2.708050</td>\n",
              "      <td>3</td>\n",
              "      <td>2013</td>\n",
              "      <td>1</td>\n",
              "      <td>2013-01-03</td>\n",
              "      <td>3</td>\n",
              "      <td>Thursday</td>\n",
              "      <td>NaN</td>\n",
              "      <td>NaN</td>\n",
              "      <td>NaN</td>\n",
              "      <td>NaN</td>\n",
              "      <td>NaN</td>\n",
              "      <td>NaN</td>\n",
              "      <td>NaN</td>\n",
              "      <td>NaN</td>\n",
              "      <td>NaN</td>\n",
              "      <td>NaN</td>\n",
              "    </tr>\n",
              "    <tr>\n",
              "      <th>3</th>\n",
              "      <td>2013-01-04</td>\n",
              "      <td>1</td>\n",
              "      <td>1</td>\n",
              "      <td>2.639057</td>\n",
              "      <td>4</td>\n",
              "      <td>2013</td>\n",
              "      <td>1</td>\n",
              "      <td>2013-01-04</td>\n",
              "      <td>4</td>\n",
              "      <td>Friday</td>\n",
              "      <td>NaN</td>\n",
              "      <td>NaN</td>\n",
              "      <td>NaN</td>\n",
              "      <td>NaN</td>\n",
              "      <td>NaN</td>\n",
              "      <td>NaN</td>\n",
              "      <td>NaN</td>\n",
              "      <td>NaN</td>\n",
              "      <td>NaN</td>\n",
              "      <td>NaN</td>\n",
              "    </tr>\n",
              "    <tr>\n",
              "      <th>4</th>\n",
              "      <td>2013-01-05</td>\n",
              "      <td>1</td>\n",
              "      <td>1</td>\n",
              "      <td>2.397895</td>\n",
              "      <td>5</td>\n",
              "      <td>2013</td>\n",
              "      <td>1</td>\n",
              "      <td>2013-01-05</td>\n",
              "      <td>5</td>\n",
              "      <td>Saturday</td>\n",
              "      <td>NaN</td>\n",
              "      <td>NaN</td>\n",
              "      <td>NaN</td>\n",
              "      <td>NaN</td>\n",
              "      <td>NaN</td>\n",
              "      <td>NaN</td>\n",
              "      <td>NaN</td>\n",
              "      <td>NaN</td>\n",
              "      <td>NaN</td>\n",
              "      <td>NaN</td>\n",
              "    </tr>\n",
              "  </tbody>\n",
              "</table>\n",
              "</div>\n",
              "      <button class=\"colab-df-convert\" onclick=\"convertToInteractive('df-7cf635d8-fe91-46e6-8c76-c0d9c45d9331')\"\n",
              "              title=\"Convert this dataframe to an interactive table.\"\n",
              "              style=\"display:none;\">\n",
              "        \n",
              "  <svg xmlns=\"http://www.w3.org/2000/svg\" height=\"24px\"viewBox=\"0 0 24 24\"\n",
              "       width=\"24px\">\n",
              "    <path d=\"M0 0h24v24H0V0z\" fill=\"none\"/>\n",
              "    <path d=\"M18.56 5.44l.94 2.06.94-2.06 2.06-.94-2.06-.94-.94-2.06-.94 2.06-2.06.94zm-11 1L8.5 8.5l.94-2.06 2.06-.94-2.06-.94L8.5 2.5l-.94 2.06-2.06.94zm10 10l.94 2.06.94-2.06 2.06-.94-2.06-.94-.94-2.06-.94 2.06-2.06.94z\"/><path d=\"M17.41 7.96l-1.37-1.37c-.4-.4-.92-.59-1.43-.59-.52 0-1.04.2-1.43.59L10.3 9.45l-7.72 7.72c-.78.78-.78 2.05 0 2.83L4 21.41c.39.39.9.59 1.41.59.51 0 1.02-.2 1.41-.59l7.78-7.78 2.81-2.81c.8-.78.8-2.07 0-2.86zM5.41 20L4 18.59l7.72-7.72 1.47 1.35L5.41 20z\"/>\n",
              "  </svg>\n",
              "      </button>\n",
              "      \n",
              "  <style>\n",
              "    .colab-df-container {\n",
              "      display:flex;\n",
              "      flex-wrap:wrap;\n",
              "      gap: 12px;\n",
              "    }\n",
              "\n",
              "    .colab-df-convert {\n",
              "      background-color: #E8F0FE;\n",
              "      border: none;\n",
              "      border-radius: 50%;\n",
              "      cursor: pointer;\n",
              "      display: none;\n",
              "      fill: #1967D2;\n",
              "      height: 32px;\n",
              "      padding: 0 0 0 0;\n",
              "      width: 32px;\n",
              "    }\n",
              "\n",
              "    .colab-df-convert:hover {\n",
              "      background-color: #E2EBFA;\n",
              "      box-shadow: 0px 1px 2px rgba(60, 64, 67, 0.3), 0px 1px 3px 1px rgba(60, 64, 67, 0.15);\n",
              "      fill: #174EA6;\n",
              "    }\n",
              "\n",
              "    [theme=dark] .colab-df-convert {\n",
              "      background-color: #3B4455;\n",
              "      fill: #D2E3FC;\n",
              "    }\n",
              "\n",
              "    [theme=dark] .colab-df-convert:hover {\n",
              "      background-color: #434B5C;\n",
              "      box-shadow: 0px 1px 3px 1px rgba(0, 0, 0, 0.15);\n",
              "      filter: drop-shadow(0px 1px 2px rgba(0, 0, 0, 0.3));\n",
              "      fill: #FFFFFF;\n",
              "    }\n",
              "  </style>\n",
              "\n",
              "      <script>\n",
              "        const buttonEl =\n",
              "          document.querySelector('#df-7cf635d8-fe91-46e6-8c76-c0d9c45d9331 button.colab-df-convert');\n",
              "        buttonEl.style.display =\n",
              "          google.colab.kernel.accessAllowed ? 'block' : 'none';\n",
              "\n",
              "        async function convertToInteractive(key) {\n",
              "          const element = document.querySelector('#df-7cf635d8-fe91-46e6-8c76-c0d9c45d9331');\n",
              "          const dataTable =\n",
              "            await google.colab.kernel.invokeFunction('convertToInteractive',\n",
              "                                                     [key], {});\n",
              "          if (!dataTable) return;\n",
              "\n",
              "          const docLinkHtml = 'Like what you see? Visit the ' +\n",
              "            '<a target=\"_blank\" href=https://colab.research.google.com/notebooks/data_table.ipynb>data table notebook</a>'\n",
              "            + ' to learn more about interactive tables.';\n",
              "          element.innerHTML = '';\n",
              "          dataTable['output_type'] = 'display_data';\n",
              "          await google.colab.output.renderOutput(dataTable, element);\n",
              "          const docLink = document.createElement('div');\n",
              "          docLink.innerHTML = docLinkHtml;\n",
              "          element.appendChild(docLink);\n",
              "        }\n",
              "      </script>\n",
              "    </div>\n",
              "  </div>\n",
              "  "
            ],
            "text/plain": [
              "         date  store  item  ...  sales_lag_364  sales_lag_546  sales_lag_728\n",
              "0  2013-01-01      1     1  ...            NaN            NaN            NaN\n",
              "1  2013-01-02      1     1  ...            NaN            NaN            NaN\n",
              "2  2013-01-03      1     1  ...            NaN            NaN            NaN\n",
              "3  2013-01-04      1     1  ...            NaN            NaN            NaN\n",
              "4  2013-01-05      1     1  ...            NaN            NaN            NaN\n",
              "\n",
              "[5 rows x 20 columns]"
            ]
          },
          "metadata": {},
          "execution_count": 54
        }
      ]
    },
    {
      "cell_type": "markdown",
      "source": [
        "here i have used describe just to get mean values for all shift/lag features "
      ],
      "metadata": {
        "id": "Angn6MiyKNik"
      }
    },
    {
      "cell_type": "code",
      "source": [
        "df.describe()"
      ],
      "metadata": {
        "colab": {
          "base_uri": "https://localhost:8080/",
          "height": 364
        },
        "id": "aXkUOsbhsRuN",
        "outputId": "11e99e54-a472-4658-f32a-a4471470f8f6"
      },
      "execution_count": 55,
      "outputs": [
        {
          "output_type": "execute_result",
          "data": {
            "text/html": [
              "\n",
              "  <div id=\"df-d5e4bfd9-3662-4269-9114-8b7c6968a636\">\n",
              "    <div class=\"colab-df-container\">\n",
              "      <div>\n",
              "<style scoped>\n",
              "    .dataframe tbody tr th:only-of-type {\n",
              "        vertical-align: middle;\n",
              "    }\n",
              "\n",
              "    .dataframe tbody tr th {\n",
              "        vertical-align: top;\n",
              "    }\n",
              "\n",
              "    .dataframe thead th {\n",
              "        text-align: right;\n",
              "    }\n",
              "</style>\n",
              "<table border=\"1\" class=\"dataframe\">\n",
              "  <thead>\n",
              "    <tr style=\"text-align: right;\">\n",
              "      <th></th>\n",
              "      <th>store</th>\n",
              "      <th>item</th>\n",
              "      <th>sales</th>\n",
              "      <th>day</th>\n",
              "      <th>year</th>\n",
              "      <th>month</th>\n",
              "      <th>weekday</th>\n",
              "      <th>sales_lag_91</th>\n",
              "      <th>sales_lag_98</th>\n",
              "      <th>sales_lag_105</th>\n",
              "      <th>sales_lag_112</th>\n",
              "      <th>sales_lag_119</th>\n",
              "      <th>sales_lag_126</th>\n",
              "      <th>sales_lag_182</th>\n",
              "      <th>sales_lag_364</th>\n",
              "      <th>sales_lag_546</th>\n",
              "      <th>sales_lag_728</th>\n",
              "    </tr>\n",
              "  </thead>\n",
              "  <tbody>\n",
              "    <tr>\n",
              "      <th>count</th>\n",
              "      <td>913000.000000</td>\n",
              "      <td>913000.000000</td>\n",
              "      <td>913000.000000</td>\n",
              "      <td>913000.000000</td>\n",
              "      <td>913000.000000</td>\n",
              "      <td>913000.000000</td>\n",
              "      <td>913000.000000</td>\n",
              "      <td>867500.000000</td>\n",
              "      <td>864000.000000</td>\n",
              "      <td>860500.000000</td>\n",
              "      <td>857000.000000</td>\n",
              "      <td>853500.000000</td>\n",
              "      <td>850000.000000</td>\n",
              "      <td>822000.000000</td>\n",
              "      <td>731000.000000</td>\n",
              "      <td>640000.000000</td>\n",
              "      <td>549000.000000</td>\n",
              "    </tr>\n",
              "    <tr>\n",
              "      <th>mean</th>\n",
              "      <td>5.500000</td>\n",
              "      <td>25.500000</td>\n",
              "      <td>3.821252</td>\n",
              "      <td>15.727820</td>\n",
              "      <td>2015.000548</td>\n",
              "      <td>6.523549</td>\n",
              "      <td>3.001643</td>\n",
              "      <td>52.129541</td>\n",
              "      <td>52.096150</td>\n",
              "      <td>52.053905</td>\n",
              "      <td>52.014013</td>\n",
              "      <td>51.977288</td>\n",
              "      <td>51.920541</td>\n",
              "      <td>51.269601</td>\n",
              "      <td>50.611449</td>\n",
              "      <td>49.466249</td>\n",
              "      <td>48.594454</td>\n",
              "    </tr>\n",
              "    <tr>\n",
              "      <th>std</th>\n",
              "      <td>2.872283</td>\n",
              "      <td>14.430878</td>\n",
              "      <td>0.576143</td>\n",
              "      <td>8.799329</td>\n",
              "      <td>1.414021</td>\n",
              "      <td>3.448535</td>\n",
              "      <td>1.999316</td>\n",
              "      <td>28.860266</td>\n",
              "      <td>28.850756</td>\n",
              "      <td>28.836125</td>\n",
              "      <td>28.819528</td>\n",
              "      <td>28.801229</td>\n",
              "      <td>28.783325</td>\n",
              "      <td>28.300877</td>\n",
              "      <td>27.875275</td>\n",
              "      <td>27.233630</td>\n",
              "      <td>26.644817</td>\n",
              "    </tr>\n",
              "    <tr>\n",
              "      <th>min</th>\n",
              "      <td>1.000000</td>\n",
              "      <td>1.000000</td>\n",
              "      <td>2.190948</td>\n",
              "      <td>1.000000</td>\n",
              "      <td>2013.000000</td>\n",
              "      <td>1.000000</td>\n",
              "      <td>0.000000</td>\n",
              "      <td>-1.080629</td>\n",
              "      <td>-2.994341</td>\n",
              "      <td>-2.686332</td>\n",
              "      <td>-2.185900</td>\n",
              "      <td>-1.879596</td>\n",
              "      <td>-1.680496</td>\n",
              "      <td>-0.766660</td>\n",
              "      <td>-1.077531</td>\n",
              "      <td>-1.061433</td>\n",
              "      <td>-1.132521</td>\n",
              "    </tr>\n",
              "    <tr>\n",
              "      <th>25%</th>\n",
              "      <td>3.000000</td>\n",
              "      <td>13.000000</td>\n",
              "      <td>3.433987</td>\n",
              "      <td>8.000000</td>\n",
              "      <td>2014.000000</td>\n",
              "      <td>4.000000</td>\n",
              "      <td>1.000000</td>\n",
              "      <td>29.554127</td>\n",
              "      <td>29.537595</td>\n",
              "      <td>29.518515</td>\n",
              "      <td>29.477917</td>\n",
              "      <td>29.477882</td>\n",
              "      <td>29.412214</td>\n",
              "      <td>29.132068</td>\n",
              "      <td>28.772473</td>\n",
              "      <td>28.125050</td>\n",
              "      <td>27.686138</td>\n",
              "    </tr>\n",
              "    <tr>\n",
              "      <th>50%</th>\n",
              "      <td>5.500000</td>\n",
              "      <td>25.500000</td>\n",
              "      <td>3.871201</td>\n",
              "      <td>16.000000</td>\n",
              "      <td>2015.000000</td>\n",
              "      <td>7.000000</td>\n",
              "      <td>3.000000</td>\n",
              "      <td>46.785380</td>\n",
              "      <td>46.753709</td>\n",
              "      <td>46.695217</td>\n",
              "      <td>46.655775</td>\n",
              "      <td>46.627580</td>\n",
              "      <td>46.584538</td>\n",
              "      <td>46.075308</td>\n",
              "      <td>45.513286</td>\n",
              "      <td>44.515972</td>\n",
              "      <td>43.804790</td>\n",
              "    </tr>\n",
              "    <tr>\n",
              "      <th>75%</th>\n",
              "      <td>8.000000</td>\n",
              "      <td>38.000000</td>\n",
              "      <td>4.262680</td>\n",
              "      <td>23.000000</td>\n",
              "      <td>2016.000000</td>\n",
              "      <td>10.000000</td>\n",
              "      <td>5.000000</td>\n",
              "      <td>69.454728</td>\n",
              "      <td>69.402893</td>\n",
              "      <td>69.327372</td>\n",
              "      <td>69.274253</td>\n",
              "      <td>69.214008</td>\n",
              "      <td>69.157253</td>\n",
              "      <td>68.324117</td>\n",
              "      <td>67.455616</td>\n",
              "      <td>65.907583</td>\n",
              "      <td>64.782432</td>\n",
              "    </tr>\n",
              "    <tr>\n",
              "      <th>max</th>\n",
              "      <td>10.000000</td>\n",
              "      <td>50.000000</td>\n",
              "      <td>5.446737</td>\n",
              "      <td>31.000000</td>\n",
              "      <td>2017.000000</td>\n",
              "      <td>12.000000</td>\n",
              "      <td>6.000000</td>\n",
              "      <td>230.847806</td>\n",
              "      <td>229.120986</td>\n",
              "      <td>231.706300</td>\n",
              "      <td>230.341126</td>\n",
              "      <td>231.499983</td>\n",
              "      <td>230.909596</td>\n",
              "      <td>232.455278</td>\n",
              "      <td>210.606059</td>\n",
              "      <td>196.625206</td>\n",
              "      <td>198.488047</td>\n",
              "    </tr>\n",
              "  </tbody>\n",
              "</table>\n",
              "</div>\n",
              "      <button class=\"colab-df-convert\" onclick=\"convertToInteractive('df-d5e4bfd9-3662-4269-9114-8b7c6968a636')\"\n",
              "              title=\"Convert this dataframe to an interactive table.\"\n",
              "              style=\"display:none;\">\n",
              "        \n",
              "  <svg xmlns=\"http://www.w3.org/2000/svg\" height=\"24px\"viewBox=\"0 0 24 24\"\n",
              "       width=\"24px\">\n",
              "    <path d=\"M0 0h24v24H0V0z\" fill=\"none\"/>\n",
              "    <path d=\"M18.56 5.44l.94 2.06.94-2.06 2.06-.94-2.06-.94-.94-2.06-.94 2.06-2.06.94zm-11 1L8.5 8.5l.94-2.06 2.06-.94-2.06-.94L8.5 2.5l-.94 2.06-2.06.94zm10 10l.94 2.06.94-2.06 2.06-.94-2.06-.94-.94-2.06-.94 2.06-2.06.94z\"/><path d=\"M17.41 7.96l-1.37-1.37c-.4-.4-.92-.59-1.43-.59-.52 0-1.04.2-1.43.59L10.3 9.45l-7.72 7.72c-.78.78-.78 2.05 0 2.83L4 21.41c.39.39.9.59 1.41.59.51 0 1.02-.2 1.41-.59l7.78-7.78 2.81-2.81c.8-.78.8-2.07 0-2.86zM5.41 20L4 18.59l7.72-7.72 1.47 1.35L5.41 20z\"/>\n",
              "  </svg>\n",
              "      </button>\n",
              "      \n",
              "  <style>\n",
              "    .colab-df-container {\n",
              "      display:flex;\n",
              "      flex-wrap:wrap;\n",
              "      gap: 12px;\n",
              "    }\n",
              "\n",
              "    .colab-df-convert {\n",
              "      background-color: #E8F0FE;\n",
              "      border: none;\n",
              "      border-radius: 50%;\n",
              "      cursor: pointer;\n",
              "      display: none;\n",
              "      fill: #1967D2;\n",
              "      height: 32px;\n",
              "      padding: 0 0 0 0;\n",
              "      width: 32px;\n",
              "    }\n",
              "\n",
              "    .colab-df-convert:hover {\n",
              "      background-color: #E2EBFA;\n",
              "      box-shadow: 0px 1px 2px rgba(60, 64, 67, 0.3), 0px 1px 3px 1px rgba(60, 64, 67, 0.15);\n",
              "      fill: #174EA6;\n",
              "    }\n",
              "\n",
              "    [theme=dark] .colab-df-convert {\n",
              "      background-color: #3B4455;\n",
              "      fill: #D2E3FC;\n",
              "    }\n",
              "\n",
              "    [theme=dark] .colab-df-convert:hover {\n",
              "      background-color: #434B5C;\n",
              "      box-shadow: 0px 1px 3px 1px rgba(0, 0, 0, 0.15);\n",
              "      filter: drop-shadow(0px 1px 2px rgba(0, 0, 0, 0.3));\n",
              "      fill: #FFFFFF;\n",
              "    }\n",
              "  </style>\n",
              "\n",
              "      <script>\n",
              "        const buttonEl =\n",
              "          document.querySelector('#df-d5e4bfd9-3662-4269-9114-8b7c6968a636 button.colab-df-convert');\n",
              "        buttonEl.style.display =\n",
              "          google.colab.kernel.accessAllowed ? 'block' : 'none';\n",
              "\n",
              "        async function convertToInteractive(key) {\n",
              "          const element = document.querySelector('#df-d5e4bfd9-3662-4269-9114-8b7c6968a636');\n",
              "          const dataTable =\n",
              "            await google.colab.kernel.invokeFunction('convertToInteractive',\n",
              "                                                     [key], {});\n",
              "          if (!dataTable) return;\n",
              "\n",
              "          const docLinkHtml = 'Like what you see? Visit the ' +\n",
              "            '<a target=\"_blank\" href=https://colab.research.google.com/notebooks/data_table.ipynb>data table notebook</a>'\n",
              "            + ' to learn more about interactive tables.';\n",
              "          element.innerHTML = '';\n",
              "          dataTable['output_type'] = 'display_data';\n",
              "          await google.colab.output.renderOutput(dataTable, element);\n",
              "          const docLink = document.createElement('div');\n",
              "          docLink.innerHTML = docLinkHtml;\n",
              "          element.appendChild(docLink);\n",
              "        }\n",
              "      </script>\n",
              "    </div>\n",
              "  </div>\n",
              "  "
            ],
            "text/plain": [
              "               store           item  ...  sales_lag_546  sales_lag_728\n",
              "count  913000.000000  913000.000000  ...  640000.000000  549000.000000\n",
              "mean        5.500000      25.500000  ...      49.466249      48.594454\n",
              "std         2.872283      14.430878  ...      27.233630      26.644817\n",
              "min         1.000000       1.000000  ...      -1.061433      -1.132521\n",
              "25%         3.000000      13.000000  ...      28.125050      27.686138\n",
              "50%         5.500000      25.500000  ...      44.515972      43.804790\n",
              "75%         8.000000      38.000000  ...      65.907583      64.782432\n",
              "max        10.000000      50.000000  ...     196.625206     198.488047\n",
              "\n",
              "[8 rows x 17 columns]"
            ]
          },
          "metadata": {},
          "execution_count": 55
        }
      ]
    },
    {
      "cell_type": "code",
      "source": [
        "data=df.copy()"
      ],
      "metadata": {
        "id": "4yFoR7q8C7Dd"
      },
      "execution_count": 56,
      "outputs": []
    },
    {
      "cell_type": "markdown",
      "source": [
        "Handled some missing values in newly generated features\n",
        "(should be done in feature engineering)"
      ],
      "metadata": {
        "id": "9HMnY9SaKXz8"
      }
    },
    {
      "cell_type": "code",
      "source": [
        "df['sales_lag_91']=df['sales_lag_91'].fillna(df['sales_lag_91'].mean())"
      ],
      "metadata": {
        "id": "qsyZtl2ZtAhZ"
      },
      "execution_count": 57,
      "outputs": []
    },
    {
      "cell_type": "code",
      "source": [
        "df['sales_lag_98']=df['sales_lag_98'].fillna(df['sales_lag_98'].mean())\n",
        "df['sales_lag_105']=df['sales_lag_105'].fillna(df['sales_lag_105'].mean())\n",
        "df['sales_lag_112']=df['sales_lag_112'].fillna(df['sales_lag_112'].mean())\n",
        "df['sales_lag_119']=df['sales_lag_119'].fillna(df['sales_lag_119'].mean())\n",
        "df['sales_lag_126']=df['sales_lag_126'].fillna(df['sales_lag_126'].mean())\n",
        "df['sales_lag_182']=df['sales_lag_182'].fillna(df['sales_lag_182'].mean())\n",
        "df['sales_lag_364']=df['sales_lag_364'].fillna(df['sales_lag_364'].mean())\n",
        "df['sales_lag_546']=df['sales_lag_546'].fillna(df['sales_lag_546'].mean())\n",
        "df['sales_lag_728']=df['sales_lag_728'].fillna(df['sales_lag_728'].mean())\n"
      ],
      "metadata": {
        "id": "6b2rsuG2tUGM"
      },
      "execution_count": 58,
      "outputs": []
    },
    {
      "cell_type": "code",
      "source": [
        "df.head()"
      ],
      "metadata": {
        "colab": {
          "base_uri": "https://localhost:8080/",
          "height": 270
        },
        "id": "V_KpxunZuK2u",
        "outputId": "9b1773a7-b51f-4c5e-e191-a4c846c6ef0d"
      },
      "execution_count": 59,
      "outputs": [
        {
          "output_type": "execute_result",
          "data": {
            "text/html": [
              "\n",
              "  <div id=\"df-9b80c960-0735-49fc-9633-837aa3a8ca13\">\n",
              "    <div class=\"colab-df-container\">\n",
              "      <div>\n",
              "<style scoped>\n",
              "    .dataframe tbody tr th:only-of-type {\n",
              "        vertical-align: middle;\n",
              "    }\n",
              "\n",
              "    .dataframe tbody tr th {\n",
              "        vertical-align: top;\n",
              "    }\n",
              "\n",
              "    .dataframe thead th {\n",
              "        text-align: right;\n",
              "    }\n",
              "</style>\n",
              "<table border=\"1\" class=\"dataframe\">\n",
              "  <thead>\n",
              "    <tr style=\"text-align: right;\">\n",
              "      <th></th>\n",
              "      <th>date</th>\n",
              "      <th>store</th>\n",
              "      <th>item</th>\n",
              "      <th>sales</th>\n",
              "      <th>day</th>\n",
              "      <th>year</th>\n",
              "      <th>month</th>\n",
              "      <th>datetime</th>\n",
              "      <th>weekday</th>\n",
              "      <th>weekday_name</th>\n",
              "      <th>sales_lag_91</th>\n",
              "      <th>sales_lag_98</th>\n",
              "      <th>sales_lag_105</th>\n",
              "      <th>sales_lag_112</th>\n",
              "      <th>sales_lag_119</th>\n",
              "      <th>sales_lag_126</th>\n",
              "      <th>sales_lag_182</th>\n",
              "      <th>sales_lag_364</th>\n",
              "      <th>sales_lag_546</th>\n",
              "      <th>sales_lag_728</th>\n",
              "    </tr>\n",
              "  </thead>\n",
              "  <tbody>\n",
              "    <tr>\n",
              "      <th>0</th>\n",
              "      <td>2013-01-01</td>\n",
              "      <td>1</td>\n",
              "      <td>1</td>\n",
              "      <td>2.639057</td>\n",
              "      <td>1</td>\n",
              "      <td>2013</td>\n",
              "      <td>1</td>\n",
              "      <td>2013-01-01</td>\n",
              "      <td>1</td>\n",
              "      <td>Tuesday</td>\n",
              "      <td>52.129541</td>\n",
              "      <td>52.09615</td>\n",
              "      <td>52.053905</td>\n",
              "      <td>52.014013</td>\n",
              "      <td>51.977288</td>\n",
              "      <td>51.920541</td>\n",
              "      <td>51.269601</td>\n",
              "      <td>50.611449</td>\n",
              "      <td>49.466249</td>\n",
              "      <td>48.594454</td>\n",
              "    </tr>\n",
              "    <tr>\n",
              "      <th>1</th>\n",
              "      <td>2013-01-02</td>\n",
              "      <td>1</td>\n",
              "      <td>1</td>\n",
              "      <td>2.484907</td>\n",
              "      <td>2</td>\n",
              "      <td>2013</td>\n",
              "      <td>1</td>\n",
              "      <td>2013-01-02</td>\n",
              "      <td>2</td>\n",
              "      <td>Wednesday</td>\n",
              "      <td>52.129541</td>\n",
              "      <td>52.09615</td>\n",
              "      <td>52.053905</td>\n",
              "      <td>52.014013</td>\n",
              "      <td>51.977288</td>\n",
              "      <td>51.920541</td>\n",
              "      <td>51.269601</td>\n",
              "      <td>50.611449</td>\n",
              "      <td>49.466249</td>\n",
              "      <td>48.594454</td>\n",
              "    </tr>\n",
              "    <tr>\n",
              "      <th>2</th>\n",
              "      <td>2013-01-03</td>\n",
              "      <td>1</td>\n",
              "      <td>1</td>\n",
              "      <td>2.708050</td>\n",
              "      <td>3</td>\n",
              "      <td>2013</td>\n",
              "      <td>1</td>\n",
              "      <td>2013-01-03</td>\n",
              "      <td>3</td>\n",
              "      <td>Thursday</td>\n",
              "      <td>52.129541</td>\n",
              "      <td>52.09615</td>\n",
              "      <td>52.053905</td>\n",
              "      <td>52.014013</td>\n",
              "      <td>51.977288</td>\n",
              "      <td>51.920541</td>\n",
              "      <td>51.269601</td>\n",
              "      <td>50.611449</td>\n",
              "      <td>49.466249</td>\n",
              "      <td>48.594454</td>\n",
              "    </tr>\n",
              "    <tr>\n",
              "      <th>3</th>\n",
              "      <td>2013-01-04</td>\n",
              "      <td>1</td>\n",
              "      <td>1</td>\n",
              "      <td>2.639057</td>\n",
              "      <td>4</td>\n",
              "      <td>2013</td>\n",
              "      <td>1</td>\n",
              "      <td>2013-01-04</td>\n",
              "      <td>4</td>\n",
              "      <td>Friday</td>\n",
              "      <td>52.129541</td>\n",
              "      <td>52.09615</td>\n",
              "      <td>52.053905</td>\n",
              "      <td>52.014013</td>\n",
              "      <td>51.977288</td>\n",
              "      <td>51.920541</td>\n",
              "      <td>51.269601</td>\n",
              "      <td>50.611449</td>\n",
              "      <td>49.466249</td>\n",
              "      <td>48.594454</td>\n",
              "    </tr>\n",
              "    <tr>\n",
              "      <th>4</th>\n",
              "      <td>2013-01-05</td>\n",
              "      <td>1</td>\n",
              "      <td>1</td>\n",
              "      <td>2.397895</td>\n",
              "      <td>5</td>\n",
              "      <td>2013</td>\n",
              "      <td>1</td>\n",
              "      <td>2013-01-05</td>\n",
              "      <td>5</td>\n",
              "      <td>Saturday</td>\n",
              "      <td>52.129541</td>\n",
              "      <td>52.09615</td>\n",
              "      <td>52.053905</td>\n",
              "      <td>52.014013</td>\n",
              "      <td>51.977288</td>\n",
              "      <td>51.920541</td>\n",
              "      <td>51.269601</td>\n",
              "      <td>50.611449</td>\n",
              "      <td>49.466249</td>\n",
              "      <td>48.594454</td>\n",
              "    </tr>\n",
              "  </tbody>\n",
              "</table>\n",
              "</div>\n",
              "      <button class=\"colab-df-convert\" onclick=\"convertToInteractive('df-9b80c960-0735-49fc-9633-837aa3a8ca13')\"\n",
              "              title=\"Convert this dataframe to an interactive table.\"\n",
              "              style=\"display:none;\">\n",
              "        \n",
              "  <svg xmlns=\"http://www.w3.org/2000/svg\" height=\"24px\"viewBox=\"0 0 24 24\"\n",
              "       width=\"24px\">\n",
              "    <path d=\"M0 0h24v24H0V0z\" fill=\"none\"/>\n",
              "    <path d=\"M18.56 5.44l.94 2.06.94-2.06 2.06-.94-2.06-.94-.94-2.06-.94 2.06-2.06.94zm-11 1L8.5 8.5l.94-2.06 2.06-.94-2.06-.94L8.5 2.5l-.94 2.06-2.06.94zm10 10l.94 2.06.94-2.06 2.06-.94-2.06-.94-.94-2.06-.94 2.06-2.06.94z\"/><path d=\"M17.41 7.96l-1.37-1.37c-.4-.4-.92-.59-1.43-.59-.52 0-1.04.2-1.43.59L10.3 9.45l-7.72 7.72c-.78.78-.78 2.05 0 2.83L4 21.41c.39.39.9.59 1.41.59.51 0 1.02-.2 1.41-.59l7.78-7.78 2.81-2.81c.8-.78.8-2.07 0-2.86zM5.41 20L4 18.59l7.72-7.72 1.47 1.35L5.41 20z\"/>\n",
              "  </svg>\n",
              "      </button>\n",
              "      \n",
              "  <style>\n",
              "    .colab-df-container {\n",
              "      display:flex;\n",
              "      flex-wrap:wrap;\n",
              "      gap: 12px;\n",
              "    }\n",
              "\n",
              "    .colab-df-convert {\n",
              "      background-color: #E8F0FE;\n",
              "      border: none;\n",
              "      border-radius: 50%;\n",
              "      cursor: pointer;\n",
              "      display: none;\n",
              "      fill: #1967D2;\n",
              "      height: 32px;\n",
              "      padding: 0 0 0 0;\n",
              "      width: 32px;\n",
              "    }\n",
              "\n",
              "    .colab-df-convert:hover {\n",
              "      background-color: #E2EBFA;\n",
              "      box-shadow: 0px 1px 2px rgba(60, 64, 67, 0.3), 0px 1px 3px 1px rgba(60, 64, 67, 0.15);\n",
              "      fill: #174EA6;\n",
              "    }\n",
              "\n",
              "    [theme=dark] .colab-df-convert {\n",
              "      background-color: #3B4455;\n",
              "      fill: #D2E3FC;\n",
              "    }\n",
              "\n",
              "    [theme=dark] .colab-df-convert:hover {\n",
              "      background-color: #434B5C;\n",
              "      box-shadow: 0px 1px 3px 1px rgba(0, 0, 0, 0.15);\n",
              "      filter: drop-shadow(0px 1px 2px rgba(0, 0, 0, 0.3));\n",
              "      fill: #FFFFFF;\n",
              "    }\n",
              "  </style>\n",
              "\n",
              "      <script>\n",
              "        const buttonEl =\n",
              "          document.querySelector('#df-9b80c960-0735-49fc-9633-837aa3a8ca13 button.colab-df-convert');\n",
              "        buttonEl.style.display =\n",
              "          google.colab.kernel.accessAllowed ? 'block' : 'none';\n",
              "\n",
              "        async function convertToInteractive(key) {\n",
              "          const element = document.querySelector('#df-9b80c960-0735-49fc-9633-837aa3a8ca13');\n",
              "          const dataTable =\n",
              "            await google.colab.kernel.invokeFunction('convertToInteractive',\n",
              "                                                     [key], {});\n",
              "          if (!dataTable) return;\n",
              "\n",
              "          const docLinkHtml = 'Like what you see? Visit the ' +\n",
              "            '<a target=\"_blank\" href=https://colab.research.google.com/notebooks/data_table.ipynb>data table notebook</a>'\n",
              "            + ' to learn more about interactive tables.';\n",
              "          element.innerHTML = '';\n",
              "          dataTable['output_type'] = 'display_data';\n",
              "          await google.colab.output.renderOutput(dataTable, element);\n",
              "          const docLink = document.createElement('div');\n",
              "          docLink.innerHTML = docLinkHtml;\n",
              "          element.appendChild(docLink);\n",
              "        }\n",
              "      </script>\n",
              "    </div>\n",
              "  </div>\n",
              "  "
            ],
            "text/plain": [
              "         date  store  item  ...  sales_lag_364  sales_lag_546  sales_lag_728\n",
              "0  2013-01-01      1     1  ...      50.611449      49.466249      48.594454\n",
              "1  2013-01-02      1     1  ...      50.611449      49.466249      48.594454\n",
              "2  2013-01-03      1     1  ...      50.611449      49.466249      48.594454\n",
              "3  2013-01-04      1     1  ...      50.611449      49.466249      48.594454\n",
              "4  2013-01-05      1     1  ...      50.611449      49.466249      48.594454\n",
              "\n",
              "[5 rows x 20 columns]"
            ]
          },
          "metadata": {},
          "execution_count": 59
        }
      ]
    },
    {
      "cell_type": "markdown",
      "source": [
        "took data before date 2017-01-01 as training and after this for testing"
      ],
      "metadata": {
        "id": "qcXi7AquKiZa"
      }
    },
    {
      "cell_type": "code",
      "source": [
        "train = df.loc[(df[\"date\"] < \"2017-01-01\"), :] # Until beginning of 2017\n",
        "val = df.loc[(df[\"date\"] >= \"2017-01-01\") & (df[\"date\"] < \"2017-04-01\"), :] # First 3 months of 2017\n",
        "\n",
        "cols = [col for col in train.columns if col not in ['date', 'id', \"sales\", \"year\"]]\n"
      ],
      "metadata": {
        "id": "6ifqu4E6qzWI"
      },
      "execution_count": 60,
      "outputs": []
    },
    {
      "cell_type": "code",
      "source": [
        "cols=['store',\n",
        " 'item',\n",
        " 'day',\n",
        " 'month',\n",
        " 'weekday',\n",
        " 'sales_lag_91',\n",
        " 'sales_lag_98',\n",
        " 'sales_lag_105',\n",
        " 'sales_lag_112',\n",
        " 'sales_lag_119',\n",
        " 'sales_lag_126',\n",
        " 'sales_lag_182',\n",
        " 'sales_lag_364',\n",
        " 'sales_lag_546',\n",
        " 'sales_lag_728']"
      ],
      "metadata": {
        "id": "Nard4Nm4rIln"
      },
      "execution_count": 61,
      "outputs": []
    },
    {
      "cell_type": "code",
      "source": [
        "Y_train = train['sales']\n",
        "X_train = train[cols]\n",
        "\n",
        "Y_val = val['sales']\n",
        "X_val = val[cols]\n",
        "\n",
        "Y_train.shape, X_train.shape, Y_val.shape, X_val.shape"
      ],
      "metadata": {
        "colab": {
          "base_uri": "https://localhost:8080/"
        },
        "id": "IvYFrpK3rJx6",
        "outputId": "4e6a037e-ab92-4547-f6aa-7bd234baded5"
      },
      "execution_count": 62,
      "outputs": [
        {
          "output_type": "execute_result",
          "data": {
            "text/plain": [
              "((730500,), (730500, 15), (45000,), (45000, 15))"
            ]
          },
          "metadata": {},
          "execution_count": 62
        }
      ]
    },
    {
      "cell_type": "markdown",
      "source": [
        "LINEAR REGRESSION"
      ],
      "metadata": {
        "id": "xK3p-Zmo1E_Z"
      }
    },
    {
      "cell_type": "code",
      "source": [
        "from sklearn import linear_model"
      ],
      "metadata": {
        "id": "C80qjfXiru6m"
      },
      "execution_count": 63,
      "outputs": []
    },
    {
      "cell_type": "code",
      "source": [
        "reg = linear_model.LinearRegression()"
      ],
      "metadata": {
        "id": "BXXExK61sBLa"
      },
      "execution_count": 64,
      "outputs": []
    },
    {
      "cell_type": "code",
      "source": [
        "reg.fit(X_train,Y_train)"
      ],
      "metadata": {
        "colab": {
          "base_uri": "https://localhost:8080/"
        },
        "id": "W-W3RXTisFqR",
        "outputId": "96cc96f6-a571-4df7-c94d-6faa225444a8"
      },
      "execution_count": 65,
      "outputs": [
        {
          "output_type": "execute_result",
          "data": {
            "text/plain": [
              "LinearRegression()"
            ]
          },
          "metadata": {},
          "execution_count": 65
        }
      ]
    },
    {
      "cell_type": "code",
      "source": [
        "y_pred=reg.predict(X_val)"
      ],
      "metadata": {
        "id": "fy57fU69sJlr"
      },
      "execution_count": 66,
      "outputs": []
    },
    {
      "cell_type": "code",
      "source": [
        "def smape(preds, target):\n",
        "    n = len(preds)\n",
        "    masked_arr = ~((preds == 0) & (target == 0))\n",
        "    preds, target = preds[masked_arr], target[masked_arr]\n",
        "    num = np.abs(preds - target)\n",
        "    denom = np.abs(preds) + np.abs(target)\n",
        "    smape_val = (200 * np.sum(num / denom)) / n\n",
        "    return smape_val"
      ],
      "metadata": {
        "id": "MhZwqpwDzIPS"
      },
      "execution_count": 67,
      "outputs": []
    },
    {
      "cell_type": "code",
      "source": [
        "smape(y_pred,Y_val)"
      ],
      "metadata": {
        "colab": {
          "base_uri": "https://localhost:8080/"
        },
        "id": "rhwSEsXxzdCf",
        "outputId": "54e1c437-33df-41cf-f297-932e591fe914"
      },
      "execution_count": 68,
      "outputs": [
        {
          "output_type": "execute_result",
          "data": {
            "text/plain": [
              "5.700175637643756"
            ]
          },
          "metadata": {},
          "execution_count": 68
        }
      ]
    },
    {
      "cell_type": "markdown",
      "source": [
        "Polynomial Regression"
      ],
      "metadata": {
        "id": "L_1F-WSb20f6"
      }
    },
    {
      "cell_type": "code",
      "source": [
        "# importing libraries for polynomial transform\n",
        "from sklearn.preprocessing import PolynomialFeatures\n",
        "# for creating pipeline\n",
        "from sklearn.pipeline import Pipeline\n",
        "# creating pipeline and fitting it on data\n",
        "Input=[('polynomial',PolynomialFeatures(degree=2)),('modal',linear_model.LinearRegression())]\n",
        "pipe=Pipeline(Input)\n",
        "pipe.fit(X_train,Y_train)"
      ],
      "metadata": {
        "colab": {
          "base_uri": "https://localhost:8080/"
        },
        "id": "tzvmqIJPz0v1",
        "outputId": "4f4ffd71-e9c9-4b08-b314-d8d64d0bb93e"
      },
      "execution_count": 69,
      "outputs": [
        {
          "output_type": "execute_result",
          "data": {
            "text/plain": [
              "Pipeline(steps=[('polynomial', PolynomialFeatures()),\n",
              "                ('modal', LinearRegression())])"
            ]
          },
          "metadata": {},
          "execution_count": 69
        }
      ]
    },
    {
      "cell_type": "code",
      "source": [
        "y_pred=pipe.predict(X_val)"
      ],
      "metadata": {
        "id": "krL-yiEh1Uxi"
      },
      "execution_count": 70,
      "outputs": []
    },
    {
      "cell_type": "code",
      "source": [
        "smape(y_pred,Y_val)"
      ],
      "metadata": {
        "colab": {
          "base_uri": "https://localhost:8080/"
        },
        "id": "iWOCY58H2ijf",
        "outputId": "4a3959b0-bec1-4e57-c252-0a66a9543e37"
      },
      "execution_count": 71,
      "outputs": [
        {
          "output_type": "execute_result",
          "data": {
            "text/plain": [
              "4.4003149872935206"
            ]
          },
          "metadata": {},
          "execution_count": 71
        }
      ]
    },
    {
      "cell_type": "markdown",
      "source": [
        "Ridge regression"
      ],
      "metadata": {
        "id": "8RXAVJac3kF0"
      }
    },
    {
      "cell_type": "code",
      "source": [
        "reg = linear_model.Ridge(alpha=.5)"
      ],
      "metadata": {
        "id": "y08QJcn22krJ"
      },
      "execution_count": 72,
      "outputs": []
    },
    {
      "cell_type": "code",
      "source": [
        "reg.fit(X_train,Y_train)"
      ],
      "metadata": {
        "colab": {
          "base_uri": "https://localhost:8080/"
        },
        "id": "Ik11-V1M3VNV",
        "outputId": "2a5dca08-f868-4d11-bd58-3266c36f114f"
      },
      "execution_count": 73,
      "outputs": [
        {
          "output_type": "execute_result",
          "data": {
            "text/plain": [
              "Ridge(alpha=0.5)"
            ]
          },
          "metadata": {},
          "execution_count": 73
        }
      ]
    },
    {
      "cell_type": "code",
      "source": [
        "y_pred=reg.predict(X_val)"
      ],
      "metadata": {
        "id": "dxIhLZP53XT_"
      },
      "execution_count": 74,
      "outputs": []
    },
    {
      "cell_type": "code",
      "source": [
        "smape(y_pred,Y_val)"
      ],
      "metadata": {
        "colab": {
          "base_uri": "https://localhost:8080/"
        },
        "id": "g0xMK-Df3bIZ",
        "outputId": "a751768b-89d0-4acd-97d3-ce59210deaa1"
      },
      "execution_count": 75,
      "outputs": [
        {
          "output_type": "execute_result",
          "data": {
            "text/plain": [
              "5.700175627358081"
            ]
          },
          "metadata": {},
          "execution_count": 75
        }
      ]
    },
    {
      "cell_type": "markdown",
      "source": [
        "Rigde Regression"
      ],
      "metadata": {
        "id": "KLbMlOXQ4RMT"
      }
    },
    {
      "cell_type": "code",
      "source": [
        "reg = linear_model.RidgeCV(alphas=np.logspace(7,13))"
      ],
      "metadata": {
        "id": "AVx9UsuI3go8"
      },
      "execution_count": 76,
      "outputs": []
    },
    {
      "cell_type": "code",
      "source": [
        "reg.fit(X_train,Y_train)"
      ],
      "metadata": {
        "colab": {
          "base_uri": "https://localhost:8080/"
        },
        "id": "6nEEgwmt3umw",
        "outputId": "95930afc-8a0c-45fd-f422-c81e704b130f"
      },
      "execution_count": 77,
      "outputs": [
        {
          "output_type": "execute_result",
          "data": {
            "text/plain": [
              "RidgeCV(alphas=array([1.00000000e+07, 1.32571137e+07, 1.75751062e+07, 2.32995181e+07,\n",
              "       3.08884360e+07, 4.09491506e+07, 5.42867544e+07, 7.19685673e+07,\n",
              "       9.54095476e+07, 1.26485522e+08, 1.67683294e+08, 2.22299648e+08,\n",
              "       2.94705170e+08, 3.90693994e+08, 5.17947468e+08, 6.86648845e+08,\n",
              "       9.10298178e+08, 1.20679264e+09, 1.59985872e+09, 2.12095089e+09,\n",
              "       2.81176870e+09, 3.72759372e+0...\n",
              "       8.68511374e+09, 1.15139540e+10, 1.52641797e+10, 2.02358965e+10,\n",
              "       2.68269580e+10, 3.55648031e+10, 4.71486636e+10, 6.25055193e+10,\n",
              "       8.28642773e+10, 1.09854114e+11, 1.45634848e+11, 1.93069773e+11,\n",
              "       2.55954792e+11, 3.39322177e+11, 4.49843267e+11, 5.96362332e+11,\n",
              "       7.90604321e+11, 1.04811313e+12, 1.38949549e+12, 1.84206997e+12,\n",
              "       2.44205309e+12, 3.23745754e+12, 4.29193426e+12, 5.68986603e+12,\n",
              "       7.54312006e+12, 1.00000000e+13]))"
            ]
          },
          "metadata": {},
          "execution_count": 77
        }
      ]
    },
    {
      "cell_type": "code",
      "source": [
        "y_pred=reg.predict(X_val)"
      ],
      "metadata": {
        "id": "PUmzvnFB3xSz"
      },
      "execution_count": 78,
      "outputs": []
    },
    {
      "cell_type": "code",
      "source": [
        "smape(y_pred,Y_val)"
      ],
      "metadata": {
        "colab": {
          "base_uri": "https://localhost:8080/"
        },
        "id": "KW-AHuCv3zBK",
        "outputId": "6aefc881-cd81-4996-dfa5-5a753701a852"
      },
      "execution_count": 79,
      "outputs": [
        {
          "output_type": "execute_result",
          "data": {
            "text/plain": [
              "5.614061715015793"
            ]
          },
          "metadata": {},
          "execution_count": 79
        }
      ]
    },
    {
      "cell_type": "code",
      "source": [
        "from sklearn.linear_model import TweedieRegressor"
      ],
      "metadata": {
        "id": "eX5pELzk30rO"
      },
      "execution_count": 80,
      "outputs": []
    },
    {
      "cell_type": "code",
      "source": [
        "reg = TweedieRegressor(power=1, alpha=0.5, link='log')"
      ],
      "metadata": {
        "id": "k8gs1yta4f7J"
      },
      "execution_count": 81,
      "outputs": []
    },
    {
      "cell_type": "code",
      "source": [
        "reg.fit(X_train,Y_train)"
      ],
      "metadata": {
        "colab": {
          "base_uri": "https://localhost:8080/"
        },
        "id": "9xXQ0JL84jYM",
        "outputId": "eb7a3d4b-9682-4d0f-a0d2-426e77280354"
      },
      "execution_count": 82,
      "outputs": [
        {
          "output_type": "stream",
          "name": "stderr",
          "text": [
            "/usr/local/lib/python3.7/dist-packages/sklearn/linear_model/_glm/glm.py:323: ConvergenceWarning: lbfgs failed to converge (status=1):\n",
            "STOP: TOTAL NO. of ITERATIONS REACHED LIMIT.\n",
            "\n",
            "Increase the number of iterations (max_iter) or scale the data as shown in:\n",
            "    https://scikit-learn.org/stable/modules/preprocessing.html\n",
            "  self.n_iter_ = _check_optimize_result(\"lbfgs\", opt_res)\n"
          ]
        },
        {
          "output_type": "execute_result",
          "data": {
            "text/plain": [
              "TweedieRegressor(alpha=0.5, link='log', power=1)"
            ]
          },
          "metadata": {},
          "execution_count": 82
        }
      ]
    },
    {
      "cell_type": "code",
      "source": [
        "y_pred=reg.predict(X_val)"
      ],
      "metadata": {
        "id": "xtUyAVV84lY4"
      },
      "execution_count": 83,
      "outputs": []
    },
    {
      "cell_type": "code",
      "source": [
        "smape(y_pred,Y_val)"
      ],
      "metadata": {
        "colab": {
          "base_uri": "https://localhost:8080/"
        },
        "id": "5911fRmx4sdz",
        "outputId": "786d4267-30b9-4016-a0e4-e1d8f78e69d3"
      },
      "execution_count": 84,
      "outputs": [
        {
          "output_type": "execute_result",
          "data": {
            "text/plain": [
              "6.173757795676206"
            ]
          },
          "metadata": {},
          "execution_count": 84
        }
      ]
    },
    {
      "cell_type": "markdown",
      "source": [
        "RandomForest Regressor"
      ],
      "metadata": {
        "id": "a8hltCefKr10"
      }
    },
    {
      "cell_type": "code",
      "source": [
        "from sklearn.ensemble import RandomForestRegressor"
      ],
      "metadata": {
        "id": "WtxkfZaQ4vz8"
      },
      "execution_count": 85,
      "outputs": []
    },
    {
      "cell_type": "code",
      "source": [
        "regr = RandomForestRegressor(max_depth=4, random_state=45)"
      ],
      "metadata": {
        "id": "Yx9bTvqf5H2v"
      },
      "execution_count": 86,
      "outputs": []
    },
    {
      "cell_type": "code",
      "source": [
        "regr.fit(X_train,Y_train)"
      ],
      "metadata": {
        "colab": {
          "base_uri": "https://localhost:8080/"
        },
        "id": "GWb-88Ce5Ox8",
        "outputId": "928c171b-03f3-457b-d55e-6cd5b2bca026"
      },
      "execution_count": 87,
      "outputs": [
        {
          "output_type": "execute_result",
          "data": {
            "text/plain": [
              "RandomForestRegressor(max_depth=4, random_state=45)"
            ]
          },
          "metadata": {},
          "execution_count": 87
        }
      ]
    },
    {
      "cell_type": "code",
      "source": [
        "y_pred=regr.predict(X_val)"
      ],
      "metadata": {
        "id": "oYHIOPRn5RG_"
      },
      "execution_count": 88,
      "outputs": []
    },
    {
      "cell_type": "code",
      "source": [
        "smape(y_pred,Y_val)"
      ],
      "metadata": {
        "colab": {
          "base_uri": "https://localhost:8080/"
        },
        "id": "GsR6JsTU5TMY",
        "outputId": "af7fd9fa-1a7b-46d3-aff2-26e24eb31a9b"
      },
      "execution_count": 89,
      "outputs": [
        {
          "output_type": "execute_result",
          "data": {
            "text/plain": [
              "5.509917545828138"
            ]
          },
          "metadata": {},
          "execution_count": 89
        }
      ]
    },
    {
      "cell_type": "markdown",
      "source": [
        "Light GBM regressor"
      ],
      "metadata": {
        "id": "F5i7196TKvOR"
      }
    },
    {
      "cell_type": "code",
      "source": [
        "import lightgbm as lgb"
      ],
      "metadata": {
        "id": "4bDgJZ1z5rxt"
      },
      "execution_count": 90,
      "outputs": []
    },
    {
      "cell_type": "code",
      "source": [
        "\n",
        "lgb_params = {'metric': {'mae'},\n",
        "              'num_leaves': 10,\n",
        "              'learning_rate': 0.02,\n",
        "              'feature_fraction': 0.8,\n",
        "              'max_depth': 5,\n",
        "              'verbose': 0,\n",
        "              'num_boost_round': 11000,\n",
        "              'early_stopping_rounds': 200,\n",
        "              'nthread': -1}"
      ],
      "metadata": {
        "id": "qpUSmeTM5ruG"
      },
      "execution_count": 91,
      "outputs": []
    },
    {
      "cell_type": "code",
      "source": [
        "lgbtrain = lgb.Dataset(data=X_train, label=Y_train, feature_name=cols)\n",
        "lgbval = lgb.Dataset(data=X_val, label=Y_val, reference=lgbtrain, feature_name=cols)\n",
        "\n",
        "model = lgb.train(lgb_params, lgbtrain,\n",
        "                  valid_sets=[lgbtrain, lgbval],\n",
        "                  num_boost_round=lgb_params['num_boost_round'],\n",
        "                  early_stopping_rounds=lgb_params['early_stopping_rounds'],\n",
        "                  verbose_eval=200)\n",
        "\n",
        "y_pred_val = model.predict(X_val, num_iteration=model.best_iteration)  \n",
        "\n",
        "smape(np.expm1(y_pred_val), np.expm1(Y_val))"
      ],
      "metadata": {
        "colab": {
          "base_uri": "https://localhost:8080/"
        },
        "id": "1w7furqK5rrL",
        "outputId": "d2ffabff-7f10-44a5-e404-8d38d765e9fc"
      },
      "execution_count": 92,
      "outputs": [
        {
          "output_type": "stream",
          "name": "stderr",
          "text": [
            "/usr/local/lib/python3.7/dist-packages/lightgbm/engine.py:118: UserWarning: Found `num_boost_round` in params. Will use it instead of argument\n",
            "  warnings.warn(\"Found `{}` in params. Will use it instead of argument\".format(alias))\n",
            "/usr/local/lib/python3.7/dist-packages/lightgbm/engine.py:123: UserWarning: Found `early_stopping_rounds` in params. Will use it instead of argument\n",
            "  warnings.warn(\"Found `{}` in params. Will use it instead of argument\".format(alias))\n"
          ]
        },
        {
          "output_type": "stream",
          "name": "stdout",
          "text": [
            "Training until validation scores don't improve for 200 rounds.\n",
            "[200]\ttraining's l1: 0.167875\tvalid_1's l1: 0.15035\n",
            "[400]\ttraining's l1: 0.156352\tvalid_1's l1: 0.146644\n",
            "[600]\ttraining's l1: 0.151387\tvalid_1's l1: 0.143972\n",
            "[800]\ttraining's l1: 0.147831\tvalid_1's l1: 0.142042\n",
            "[1000]\ttraining's l1: 0.145189\tvalid_1's l1: 0.14066\n",
            "[1200]\ttraining's l1: 0.142876\tvalid_1's l1: 0.139688\n",
            "[1400]\ttraining's l1: 0.141362\tvalid_1's l1: 0.138891\n",
            "[1600]\ttraining's l1: 0.13997\tvalid_1's l1: 0.138148\n",
            "[1800]\ttraining's l1: 0.138611\tvalid_1's l1: 0.137542\n",
            "[2000]\ttraining's l1: 0.13756\tvalid_1's l1: 0.136976\n",
            "[2200]\ttraining's l1: 0.136698\tvalid_1's l1: 0.136551\n",
            "[2400]\ttraining's l1: 0.135901\tvalid_1's l1: 0.136184\n",
            "[2600]\ttraining's l1: 0.135101\tvalid_1's l1: 0.135871\n",
            "[2800]\ttraining's l1: 0.134394\tvalid_1's l1: 0.13556\n",
            "[3000]\ttraining's l1: 0.133753\tvalid_1's l1: 0.135308\n",
            "[3200]\ttraining's l1: 0.133299\tvalid_1's l1: 0.135082\n",
            "[3400]\ttraining's l1: 0.132812\tvalid_1's l1: 0.134849\n",
            "[3600]\ttraining's l1: 0.132412\tvalid_1's l1: 0.134685\n",
            "[3800]\ttraining's l1: 0.132033\tvalid_1's l1: 0.134498\n",
            "[4000]\ttraining's l1: 0.131733\tvalid_1's l1: 0.134367\n",
            "[4200]\ttraining's l1: 0.131431\tvalid_1's l1: 0.134253\n",
            "[4400]\ttraining's l1: 0.131142\tvalid_1's l1: 0.134138\n",
            "[4600]\ttraining's l1: 0.130898\tvalid_1's l1: 0.134023\n",
            "[4800]\ttraining's l1: 0.130662\tvalid_1's l1: 0.133915\n",
            "[5000]\ttraining's l1: 0.130451\tvalid_1's l1: 0.13383\n",
            "[5200]\ttraining's l1: 0.13023\tvalid_1's l1: 0.133744\n",
            "[5400]\ttraining's l1: 0.130034\tvalid_1's l1: 0.133664\n",
            "[5600]\ttraining's l1: 0.129849\tvalid_1's l1: 0.133597\n",
            "[5800]\ttraining's l1: 0.129686\tvalid_1's l1: 0.133505\n",
            "[6000]\ttraining's l1: 0.129536\tvalid_1's l1: 0.133444\n",
            "[6200]\ttraining's l1: 0.129394\tvalid_1's l1: 0.133387\n",
            "[6400]\ttraining's l1: 0.129249\tvalid_1's l1: 0.133338\n",
            "[6600]\ttraining's l1: 0.129106\tvalid_1's l1: 0.133282\n",
            "[6800]\ttraining's l1: 0.128976\tvalid_1's l1: 0.133229\n",
            "[7000]\ttraining's l1: 0.128833\tvalid_1's l1: 0.133186\n",
            "[7200]\ttraining's l1: 0.12871\tvalid_1's l1: 0.133146\n",
            "[7400]\ttraining's l1: 0.128593\tvalid_1's l1: 0.133094\n",
            "[7600]\ttraining's l1: 0.128484\tvalid_1's l1: 0.133054\n",
            "[7800]\ttraining's l1: 0.128369\tvalid_1's l1: 0.133008\n",
            "[8000]\ttraining's l1: 0.128267\tvalid_1's l1: 0.132965\n",
            "[8200]\ttraining's l1: 0.128167\tvalid_1's l1: 0.13293\n",
            "[8400]\ttraining's l1: 0.12806\tvalid_1's l1: 0.132882\n",
            "[8600]\ttraining's l1: 0.127958\tvalid_1's l1: 0.132853\n",
            "[8800]\ttraining's l1: 0.127861\tvalid_1's l1: 0.132822\n",
            "[9000]\ttraining's l1: 0.127771\tvalid_1's l1: 0.132798\n",
            "[9200]\ttraining's l1: 0.127689\tvalid_1's l1: 0.132771\n",
            "[9400]\ttraining's l1: 0.12761\tvalid_1's l1: 0.132753\n",
            "[9600]\ttraining's l1: 0.127531\tvalid_1's l1: 0.132731\n",
            "[9800]\ttraining's l1: 0.127458\tvalid_1's l1: 0.132711\n",
            "[10000]\ttraining's l1: 0.127375\tvalid_1's l1: 0.132687\n",
            "[10200]\ttraining's l1: 0.127302\tvalid_1's l1: 0.13267\n",
            "[10400]\ttraining's l1: 0.127233\tvalid_1's l1: 0.132651\n",
            "[10600]\ttraining's l1: 0.127164\tvalid_1's l1: 0.132639\n",
            "[10800]\ttraining's l1: 0.127091\tvalid_1's l1: 0.132619\n",
            "[11000]\ttraining's l1: 0.127021\tvalid_1's l1: 0.132602\n",
            "Did not meet early stopping. Best iteration is:\n",
            "[11000]\ttraining's l1: 0.127021\tvalid_1's l1: 0.132602\n"
          ]
        },
        {
          "output_type": "execute_result",
          "data": {
            "text/plain": [
              "13.633164371743927"
            ]
          },
          "metadata": {},
          "execution_count": 92
        }
      ]
    },
    {
      "cell_type": "markdown",
      "source": [
        "getting the best iterations of the model"
      ],
      "metadata": {
        "id": "l3a_6F2sKz96"
      }
    },
    {
      "cell_type": "code",
      "source": [
        "lgb_params = {'metric': {'mae'},\n",
        "              'num_leaves': 10,\n",
        "              'learning_rate': 0.02,\n",
        "              'feature_fraction': 0.8,\n",
        "              'max_depth': 5,\n",
        "              'verbose': 0,\n",
        "              'nthread': -1,\n",
        "              \"num_boost_round\": model.best_iteration}"
      ],
      "metadata": {
        "id": "N5GK1GdS9sCE"
      },
      "execution_count": 93,
      "outputs": []
    },
    {
      "cell_type": "code",
      "source": [
        "train.columns"
      ],
      "metadata": {
        "colab": {
          "base_uri": "https://localhost:8080/"
        },
        "id": "NYiNGceUI-om",
        "outputId": "529e0364-a372-42bf-d2a8-7377c4e3566c"
      },
      "execution_count": 99,
      "outputs": [
        {
          "output_type": "execute_result",
          "data": {
            "text/plain": [
              "Index(['date', 'store', 'item', 'sales', 'day', 'year', 'month', 'datetime',\n",
              "       'weekday', 'weekday_name', 'sales_lag_91', 'sales_lag_98',\n",
              "       'sales_lag_105', 'sales_lag_112', 'sales_lag_119', 'sales_lag_126',\n",
              "       'sales_lag_182', 'sales_lag_364', 'sales_lag_546', 'sales_lag_728'],\n",
              "      dtype='object')"
            ]
          },
          "metadata": {},
          "execution_count": 99
        }
      ]
    },
    {
      "cell_type": "markdown",
      "source": [
        "loading test file and creating some lag/shift features"
      ],
      "metadata": {
        "id": "xeNiJPguK4fb"
      }
    },
    {
      "cell_type": "code",
      "source": [
        "test=pd.read_csv('/content/drive/MyDrive/dataset/demand-forecasting-kernels-only/tested.csv')"
      ],
      "metadata": {
        "id": "XvNkuCm--VOf"
      },
      "execution_count": 96,
      "outputs": []
    },
    {
      "cell_type": "code",
      "source": [
        "test.head()"
      ],
      "metadata": {
        "colab": {
          "base_uri": "https://localhost:8080/",
          "height": 206
        },
        "id": "mthXpZj9IKQx",
        "outputId": "80b29eb9-cf82-4948-cbe5-9094ac9f65c8"
      },
      "execution_count": 97,
      "outputs": [
        {
          "output_type": "execute_result",
          "data": {
            "text/html": [
              "\n",
              "  <div id=\"df-ed13aaaa-2157-4c9f-88bc-b7229122e8fb\">\n",
              "    <div class=\"colab-df-container\">\n",
              "      <div>\n",
              "<style scoped>\n",
              "    .dataframe tbody tr th:only-of-type {\n",
              "        vertical-align: middle;\n",
              "    }\n",
              "\n",
              "    .dataframe tbody tr th {\n",
              "        vertical-align: top;\n",
              "    }\n",
              "\n",
              "    .dataframe thead th {\n",
              "        text-align: right;\n",
              "    }\n",
              "</style>\n",
              "<table border=\"1\" class=\"dataframe\">\n",
              "  <thead>\n",
              "    <tr style=\"text-align: right;\">\n",
              "      <th></th>\n",
              "      <th>id</th>\n",
              "      <th>date</th>\n",
              "      <th>store</th>\n",
              "      <th>item</th>\n",
              "      <th>day</th>\n",
              "      <th>year</th>\n",
              "      <th>month</th>\n",
              "      <th>datetime</th>\n",
              "      <th>weekday</th>\n",
              "      <th>weekday_name</th>\n",
              "    </tr>\n",
              "  </thead>\n",
              "  <tbody>\n",
              "    <tr>\n",
              "      <th>0</th>\n",
              "      <td>0</td>\n",
              "      <td>2018-01-01</td>\n",
              "      <td>1</td>\n",
              "      <td>1</td>\n",
              "      <td>1</td>\n",
              "      <td>2018</td>\n",
              "      <td>1</td>\n",
              "      <td>2018-01-01</td>\n",
              "      <td>0</td>\n",
              "      <td>Monday</td>\n",
              "    </tr>\n",
              "    <tr>\n",
              "      <th>1</th>\n",
              "      <td>1</td>\n",
              "      <td>2018-01-02</td>\n",
              "      <td>1</td>\n",
              "      <td>1</td>\n",
              "      <td>2</td>\n",
              "      <td>2018</td>\n",
              "      <td>1</td>\n",
              "      <td>2018-01-02</td>\n",
              "      <td>1</td>\n",
              "      <td>Tuesday</td>\n",
              "    </tr>\n",
              "    <tr>\n",
              "      <th>2</th>\n",
              "      <td>2</td>\n",
              "      <td>2018-01-03</td>\n",
              "      <td>1</td>\n",
              "      <td>1</td>\n",
              "      <td>3</td>\n",
              "      <td>2018</td>\n",
              "      <td>1</td>\n",
              "      <td>2018-01-03</td>\n",
              "      <td>2</td>\n",
              "      <td>Wednesday</td>\n",
              "    </tr>\n",
              "    <tr>\n",
              "      <th>3</th>\n",
              "      <td>3</td>\n",
              "      <td>2018-01-04</td>\n",
              "      <td>1</td>\n",
              "      <td>1</td>\n",
              "      <td>4</td>\n",
              "      <td>2018</td>\n",
              "      <td>1</td>\n",
              "      <td>2018-01-04</td>\n",
              "      <td>3</td>\n",
              "      <td>Thursday</td>\n",
              "    </tr>\n",
              "    <tr>\n",
              "      <th>4</th>\n",
              "      <td>4</td>\n",
              "      <td>2018-01-05</td>\n",
              "      <td>1</td>\n",
              "      <td>1</td>\n",
              "      <td>5</td>\n",
              "      <td>2018</td>\n",
              "      <td>1</td>\n",
              "      <td>2018-01-05</td>\n",
              "      <td>4</td>\n",
              "      <td>Friday</td>\n",
              "    </tr>\n",
              "  </tbody>\n",
              "</table>\n",
              "</div>\n",
              "      <button class=\"colab-df-convert\" onclick=\"convertToInteractive('df-ed13aaaa-2157-4c9f-88bc-b7229122e8fb')\"\n",
              "              title=\"Convert this dataframe to an interactive table.\"\n",
              "              style=\"display:none;\">\n",
              "        \n",
              "  <svg xmlns=\"http://www.w3.org/2000/svg\" height=\"24px\"viewBox=\"0 0 24 24\"\n",
              "       width=\"24px\">\n",
              "    <path d=\"M0 0h24v24H0V0z\" fill=\"none\"/>\n",
              "    <path d=\"M18.56 5.44l.94 2.06.94-2.06 2.06-.94-2.06-.94-.94-2.06-.94 2.06-2.06.94zm-11 1L8.5 8.5l.94-2.06 2.06-.94-2.06-.94L8.5 2.5l-.94 2.06-2.06.94zm10 10l.94 2.06.94-2.06 2.06-.94-2.06-.94-.94-2.06-.94 2.06-2.06.94z\"/><path d=\"M17.41 7.96l-1.37-1.37c-.4-.4-.92-.59-1.43-.59-.52 0-1.04.2-1.43.59L10.3 9.45l-7.72 7.72c-.78.78-.78 2.05 0 2.83L4 21.41c.39.39.9.59 1.41.59.51 0 1.02-.2 1.41-.59l7.78-7.78 2.81-2.81c.8-.78.8-2.07 0-2.86zM5.41 20L4 18.59l7.72-7.72 1.47 1.35L5.41 20z\"/>\n",
              "  </svg>\n",
              "      </button>\n",
              "      \n",
              "  <style>\n",
              "    .colab-df-container {\n",
              "      display:flex;\n",
              "      flex-wrap:wrap;\n",
              "      gap: 12px;\n",
              "    }\n",
              "\n",
              "    .colab-df-convert {\n",
              "      background-color: #E8F0FE;\n",
              "      border: none;\n",
              "      border-radius: 50%;\n",
              "      cursor: pointer;\n",
              "      display: none;\n",
              "      fill: #1967D2;\n",
              "      height: 32px;\n",
              "      padding: 0 0 0 0;\n",
              "      width: 32px;\n",
              "    }\n",
              "\n",
              "    .colab-df-convert:hover {\n",
              "      background-color: #E2EBFA;\n",
              "      box-shadow: 0px 1px 2px rgba(60, 64, 67, 0.3), 0px 1px 3px 1px rgba(60, 64, 67, 0.15);\n",
              "      fill: #174EA6;\n",
              "    }\n",
              "\n",
              "    [theme=dark] .colab-df-convert {\n",
              "      background-color: #3B4455;\n",
              "      fill: #D2E3FC;\n",
              "    }\n",
              "\n",
              "    [theme=dark] .colab-df-convert:hover {\n",
              "      background-color: #434B5C;\n",
              "      box-shadow: 0px 1px 3px 1px rgba(0, 0, 0, 0.15);\n",
              "      filter: drop-shadow(0px 1px 2px rgba(0, 0, 0, 0.3));\n",
              "      fill: #FFFFFF;\n",
              "    }\n",
              "  </style>\n",
              "\n",
              "      <script>\n",
              "        const buttonEl =\n",
              "          document.querySelector('#df-ed13aaaa-2157-4c9f-88bc-b7229122e8fb button.colab-df-convert');\n",
              "        buttonEl.style.display =\n",
              "          google.colab.kernel.accessAllowed ? 'block' : 'none';\n",
              "\n",
              "        async function convertToInteractive(key) {\n",
              "          const element = document.querySelector('#df-ed13aaaa-2157-4c9f-88bc-b7229122e8fb');\n",
              "          const dataTable =\n",
              "            await google.colab.kernel.invokeFunction('convertToInteractive',\n",
              "                                                     [key], {});\n",
              "          if (!dataTable) return;\n",
              "\n",
              "          const docLinkHtml = 'Like what you see? Visit the ' +\n",
              "            '<a target=\"_blank\" href=https://colab.research.google.com/notebooks/data_table.ipynb>data table notebook</a>'\n",
              "            + ' to learn more about interactive tables.';\n",
              "          element.innerHTML = '';\n",
              "          dataTable['output_type'] = 'display_data';\n",
              "          await google.colab.output.renderOutput(dataTable, element);\n",
              "          const docLink = document.createElement('div');\n",
              "          docLink.innerHTML = docLinkHtml;\n",
              "          element.appendChild(docLink);\n",
              "        }\n",
              "      </script>\n",
              "    </div>\n",
              "  </div>\n",
              "  "
            ],
            "text/plain": [
              "   id        date  store  item  ...  month    datetime  weekday weekday_name\n",
              "0   0  2018-01-01      1     1  ...      1  2018-01-01        0       Monday\n",
              "1   1  2018-01-02      1     1  ...      1  2018-01-02        1      Tuesday\n",
              "2   2  2018-01-03      1     1  ...      1  2018-01-03        2    Wednesday\n",
              "3   3  2018-01-04      1     1  ...      1  2018-01-04        3     Thursday\n",
              "4   4  2018-01-05      1     1  ...      1  2018-01-05        4       Friday\n",
              "\n",
              "[5 rows x 10 columns]"
            ]
          },
          "metadata": {},
          "execution_count": 97
        }
      ]
    },
    {
      "cell_type": "code",
      "source": [
        "test[['sales','sales_lag_91', 'sales_lag_98',\n",
        "      'sales_lag_105', 'sales_lag_112',\n",
        "      'sales_lag_119', 'sales_lag_126',\n",
        "      'sales_lag_182', 'sales_lag_364', \n",
        "      'sales_lag_546', 'sales_lag_728']]=np.nan"
      ],
      "metadata": {
        "id": "_RTdF3o9ILVe"
      },
      "execution_count": 100,
      "outputs": []
    },
    {
      "cell_type": "code",
      "source": [
        "test.head()"
      ],
      "metadata": {
        "colab": {
          "base_uri": "https://localhost:8080/",
          "height": 270
        },
        "id": "1-ffobgTJly5",
        "outputId": "3b9951fc-59f2-48dc-ce6f-725bef4de8e1"
      },
      "execution_count": 101,
      "outputs": [
        {
          "output_type": "execute_result",
          "data": {
            "text/html": [
              "\n",
              "  <div id=\"df-a7d79a5f-b9fe-4a19-934d-63968fceb5be\">\n",
              "    <div class=\"colab-df-container\">\n",
              "      <div>\n",
              "<style scoped>\n",
              "    .dataframe tbody tr th:only-of-type {\n",
              "        vertical-align: middle;\n",
              "    }\n",
              "\n",
              "    .dataframe tbody tr th {\n",
              "        vertical-align: top;\n",
              "    }\n",
              "\n",
              "    .dataframe thead th {\n",
              "        text-align: right;\n",
              "    }\n",
              "</style>\n",
              "<table border=\"1\" class=\"dataframe\">\n",
              "  <thead>\n",
              "    <tr style=\"text-align: right;\">\n",
              "      <th></th>\n",
              "      <th>id</th>\n",
              "      <th>date</th>\n",
              "      <th>store</th>\n",
              "      <th>item</th>\n",
              "      <th>day</th>\n",
              "      <th>year</th>\n",
              "      <th>month</th>\n",
              "      <th>datetime</th>\n",
              "      <th>weekday</th>\n",
              "      <th>weekday_name</th>\n",
              "      <th>sales</th>\n",
              "      <th>sales_lag_91</th>\n",
              "      <th>sales_lag_98</th>\n",
              "      <th>sales_lag_105</th>\n",
              "      <th>sales_lag_112</th>\n",
              "      <th>sales_lag_119</th>\n",
              "      <th>sales_lag_126</th>\n",
              "      <th>sales_lag_182</th>\n",
              "      <th>sales_lag_364</th>\n",
              "      <th>sales_lag_546</th>\n",
              "      <th>sales_lag_728</th>\n",
              "    </tr>\n",
              "  </thead>\n",
              "  <tbody>\n",
              "    <tr>\n",
              "      <th>0</th>\n",
              "      <td>0</td>\n",
              "      <td>2018-01-01</td>\n",
              "      <td>1</td>\n",
              "      <td>1</td>\n",
              "      <td>1</td>\n",
              "      <td>2018</td>\n",
              "      <td>1</td>\n",
              "      <td>2018-01-01</td>\n",
              "      <td>0</td>\n",
              "      <td>Monday</td>\n",
              "      <td>NaN</td>\n",
              "      <td>NaN</td>\n",
              "      <td>NaN</td>\n",
              "      <td>NaN</td>\n",
              "      <td>NaN</td>\n",
              "      <td>NaN</td>\n",
              "      <td>NaN</td>\n",
              "      <td>NaN</td>\n",
              "      <td>NaN</td>\n",
              "      <td>NaN</td>\n",
              "      <td>NaN</td>\n",
              "    </tr>\n",
              "    <tr>\n",
              "      <th>1</th>\n",
              "      <td>1</td>\n",
              "      <td>2018-01-02</td>\n",
              "      <td>1</td>\n",
              "      <td>1</td>\n",
              "      <td>2</td>\n",
              "      <td>2018</td>\n",
              "      <td>1</td>\n",
              "      <td>2018-01-02</td>\n",
              "      <td>1</td>\n",
              "      <td>Tuesday</td>\n",
              "      <td>NaN</td>\n",
              "      <td>NaN</td>\n",
              "      <td>NaN</td>\n",
              "      <td>NaN</td>\n",
              "      <td>NaN</td>\n",
              "      <td>NaN</td>\n",
              "      <td>NaN</td>\n",
              "      <td>NaN</td>\n",
              "      <td>NaN</td>\n",
              "      <td>NaN</td>\n",
              "      <td>NaN</td>\n",
              "    </tr>\n",
              "    <tr>\n",
              "      <th>2</th>\n",
              "      <td>2</td>\n",
              "      <td>2018-01-03</td>\n",
              "      <td>1</td>\n",
              "      <td>1</td>\n",
              "      <td>3</td>\n",
              "      <td>2018</td>\n",
              "      <td>1</td>\n",
              "      <td>2018-01-03</td>\n",
              "      <td>2</td>\n",
              "      <td>Wednesday</td>\n",
              "      <td>NaN</td>\n",
              "      <td>NaN</td>\n",
              "      <td>NaN</td>\n",
              "      <td>NaN</td>\n",
              "      <td>NaN</td>\n",
              "      <td>NaN</td>\n",
              "      <td>NaN</td>\n",
              "      <td>NaN</td>\n",
              "      <td>NaN</td>\n",
              "      <td>NaN</td>\n",
              "      <td>NaN</td>\n",
              "    </tr>\n",
              "    <tr>\n",
              "      <th>3</th>\n",
              "      <td>3</td>\n",
              "      <td>2018-01-04</td>\n",
              "      <td>1</td>\n",
              "      <td>1</td>\n",
              "      <td>4</td>\n",
              "      <td>2018</td>\n",
              "      <td>1</td>\n",
              "      <td>2018-01-04</td>\n",
              "      <td>3</td>\n",
              "      <td>Thursday</td>\n",
              "      <td>NaN</td>\n",
              "      <td>NaN</td>\n",
              "      <td>NaN</td>\n",
              "      <td>NaN</td>\n",
              "      <td>NaN</td>\n",
              "      <td>NaN</td>\n",
              "      <td>NaN</td>\n",
              "      <td>NaN</td>\n",
              "      <td>NaN</td>\n",
              "      <td>NaN</td>\n",
              "      <td>NaN</td>\n",
              "    </tr>\n",
              "    <tr>\n",
              "      <th>4</th>\n",
              "      <td>4</td>\n",
              "      <td>2018-01-05</td>\n",
              "      <td>1</td>\n",
              "      <td>1</td>\n",
              "      <td>5</td>\n",
              "      <td>2018</td>\n",
              "      <td>1</td>\n",
              "      <td>2018-01-05</td>\n",
              "      <td>4</td>\n",
              "      <td>Friday</td>\n",
              "      <td>NaN</td>\n",
              "      <td>NaN</td>\n",
              "      <td>NaN</td>\n",
              "      <td>NaN</td>\n",
              "      <td>NaN</td>\n",
              "      <td>NaN</td>\n",
              "      <td>NaN</td>\n",
              "      <td>NaN</td>\n",
              "      <td>NaN</td>\n",
              "      <td>NaN</td>\n",
              "      <td>NaN</td>\n",
              "    </tr>\n",
              "  </tbody>\n",
              "</table>\n",
              "</div>\n",
              "      <button class=\"colab-df-convert\" onclick=\"convertToInteractive('df-a7d79a5f-b9fe-4a19-934d-63968fceb5be')\"\n",
              "              title=\"Convert this dataframe to an interactive table.\"\n",
              "              style=\"display:none;\">\n",
              "        \n",
              "  <svg xmlns=\"http://www.w3.org/2000/svg\" height=\"24px\"viewBox=\"0 0 24 24\"\n",
              "       width=\"24px\">\n",
              "    <path d=\"M0 0h24v24H0V0z\" fill=\"none\"/>\n",
              "    <path d=\"M18.56 5.44l.94 2.06.94-2.06 2.06-.94-2.06-.94-.94-2.06-.94 2.06-2.06.94zm-11 1L8.5 8.5l.94-2.06 2.06-.94-2.06-.94L8.5 2.5l-.94 2.06-2.06.94zm10 10l.94 2.06.94-2.06 2.06-.94-2.06-.94-.94-2.06-.94 2.06-2.06.94z\"/><path d=\"M17.41 7.96l-1.37-1.37c-.4-.4-.92-.59-1.43-.59-.52 0-1.04.2-1.43.59L10.3 9.45l-7.72 7.72c-.78.78-.78 2.05 0 2.83L4 21.41c.39.39.9.59 1.41.59.51 0 1.02-.2 1.41-.59l7.78-7.78 2.81-2.81c.8-.78.8-2.07 0-2.86zM5.41 20L4 18.59l7.72-7.72 1.47 1.35L5.41 20z\"/>\n",
              "  </svg>\n",
              "      </button>\n",
              "      \n",
              "  <style>\n",
              "    .colab-df-container {\n",
              "      display:flex;\n",
              "      flex-wrap:wrap;\n",
              "      gap: 12px;\n",
              "    }\n",
              "\n",
              "    .colab-df-convert {\n",
              "      background-color: #E8F0FE;\n",
              "      border: none;\n",
              "      border-radius: 50%;\n",
              "      cursor: pointer;\n",
              "      display: none;\n",
              "      fill: #1967D2;\n",
              "      height: 32px;\n",
              "      padding: 0 0 0 0;\n",
              "      width: 32px;\n",
              "    }\n",
              "\n",
              "    .colab-df-convert:hover {\n",
              "      background-color: #E2EBFA;\n",
              "      box-shadow: 0px 1px 2px rgba(60, 64, 67, 0.3), 0px 1px 3px 1px rgba(60, 64, 67, 0.15);\n",
              "      fill: #174EA6;\n",
              "    }\n",
              "\n",
              "    [theme=dark] .colab-df-convert {\n",
              "      background-color: #3B4455;\n",
              "      fill: #D2E3FC;\n",
              "    }\n",
              "\n",
              "    [theme=dark] .colab-df-convert:hover {\n",
              "      background-color: #434B5C;\n",
              "      box-shadow: 0px 1px 3px 1px rgba(0, 0, 0, 0.15);\n",
              "      filter: drop-shadow(0px 1px 2px rgba(0, 0, 0, 0.3));\n",
              "      fill: #FFFFFF;\n",
              "    }\n",
              "  </style>\n",
              "\n",
              "      <script>\n",
              "        const buttonEl =\n",
              "          document.querySelector('#df-a7d79a5f-b9fe-4a19-934d-63968fceb5be button.colab-df-convert');\n",
              "        buttonEl.style.display =\n",
              "          google.colab.kernel.accessAllowed ? 'block' : 'none';\n",
              "\n",
              "        async function convertToInteractive(key) {\n",
              "          const element = document.querySelector('#df-a7d79a5f-b9fe-4a19-934d-63968fceb5be');\n",
              "          const dataTable =\n",
              "            await google.colab.kernel.invokeFunction('convertToInteractive',\n",
              "                                                     [key], {});\n",
              "          if (!dataTable) return;\n",
              "\n",
              "          const docLinkHtml = 'Like what you see? Visit the ' +\n",
              "            '<a target=\"_blank\" href=https://colab.research.google.com/notebooks/data_table.ipynb>data table notebook</a>'\n",
              "            + ' to learn more about interactive tables.';\n",
              "          element.innerHTML = '';\n",
              "          dataTable['output_type'] = 'display_data';\n",
              "          await google.colab.output.renderOutput(dataTable, element);\n",
              "          const docLink = document.createElement('div');\n",
              "          docLink.innerHTML = docLinkHtml;\n",
              "          element.appendChild(docLink);\n",
              "        }\n",
              "      </script>\n",
              "    </div>\n",
              "  </div>\n",
              "  "
            ],
            "text/plain": [
              "   id        date  store  ...  sales_lag_364  sales_lag_546  sales_lag_728\n",
              "0   0  2018-01-01      1  ...            NaN            NaN            NaN\n",
              "1   1  2018-01-02      1  ...            NaN            NaN            NaN\n",
              "2   2  2018-01-03      1  ...            NaN            NaN            NaN\n",
              "3   3  2018-01-04      1  ...            NaN            NaN            NaN\n",
              "4   4  2018-01-05      1  ...            NaN            NaN            NaN\n",
              "\n",
              "[5 rows x 21 columns]"
            ]
          },
          "metadata": {},
          "execution_count": 101
        }
      ]
    },
    {
      "cell_type": "code",
      "source": [
        "train = df.loc[~df.sales.isna()]\n",
        "Y_train = train['sales']\n",
        "X_train = train[cols]\n",
        "\n",
        "X_test = test[cols]"
      ],
      "metadata": {
        "id": "jzvawAbSJndO"
      },
      "execution_count": 102,
      "outputs": []
    },
    {
      "cell_type": "code",
      "source": [
        "lgbtrain_all = lgb.Dataset(data=X_train, label=Y_train, feature_name=cols)\n",
        "\n",
        "model = lgb.train(lgb_params, lgbtrain_all, num_boost_round=model.best_iteration)\n",
        "\n",
        "test_preds = model.predict(X_test, num_iteration=model.best_iteration)"
      ],
      "metadata": {
        "colab": {
          "base_uri": "https://localhost:8080/"
        },
        "id": "Qxtw5G_OJ-Dy",
        "outputId": "d3dd8fd4-42ee-4086-bb95-a9c904ce6567"
      },
      "execution_count": 103,
      "outputs": [
        {
          "output_type": "stream",
          "name": "stderr",
          "text": [
            "/usr/local/lib/python3.7/dist-packages/lightgbm/engine.py:118: UserWarning: Found `num_boost_round` in params. Will use it instead of argument\n",
            "  warnings.warn(\"Found `{}` in params. Will use it instead of argument\".format(alias))\n"
          ]
        }
      ]
    },
    {
      "cell_type": "code",
      "source": [
        "submission_df = test.loc[:, ['id', 'sales']]\n",
        "submission_df['sales'] = np.expm1(test_preds)\n",
        "submission_df['id'] = submission_df.id.astype(int)\n",
        "\n",
        "submission_df.to_csv('submission.csv', index=False)\n",
        "submission_df.head(20)"
      ],
      "metadata": {
        "colab": {
          "base_uri": "https://localhost:8080/",
          "height": 677
        },
        "id": "wsb88zA7KB69",
        "outputId": "d0b444da-d5d2-4be4-d5b3-7433fd2a73bd"
      },
      "execution_count": 104,
      "outputs": [
        {
          "output_type": "execute_result",
          "data": {
            "text/html": [
              "\n",
              "  <div id=\"df-f389291e-0a5b-432b-8a4b-f84613ed4783\">\n",
              "    <div class=\"colab-df-container\">\n",
              "      <div>\n",
              "<style scoped>\n",
              "    .dataframe tbody tr th:only-of-type {\n",
              "        vertical-align: middle;\n",
              "    }\n",
              "\n",
              "    .dataframe tbody tr th {\n",
              "        vertical-align: top;\n",
              "    }\n",
              "\n",
              "    .dataframe thead th {\n",
              "        text-align: right;\n",
              "    }\n",
              "</style>\n",
              "<table border=\"1\" class=\"dataframe\">\n",
              "  <thead>\n",
              "    <tr style=\"text-align: right;\">\n",
              "      <th></th>\n",
              "      <th>id</th>\n",
              "      <th>sales</th>\n",
              "    </tr>\n",
              "  </thead>\n",
              "  <tbody>\n",
              "    <tr>\n",
              "      <th>0</th>\n",
              "      <td>0</td>\n",
              "      <td>10.861279</td>\n",
              "    </tr>\n",
              "    <tr>\n",
              "      <th>1</th>\n",
              "      <td>1</td>\n",
              "      <td>13.151382</td>\n",
              "    </tr>\n",
              "    <tr>\n",
              "      <th>2</th>\n",
              "      <td>2</td>\n",
              "      <td>13.281030</td>\n",
              "    </tr>\n",
              "    <tr>\n",
              "      <th>3</th>\n",
              "      <td>3</td>\n",
              "      <td>13.805656</td>\n",
              "    </tr>\n",
              "    <tr>\n",
              "      <th>4</th>\n",
              "      <td>4</td>\n",
              "      <td>14.970785</td>\n",
              "    </tr>\n",
              "    <tr>\n",
              "      <th>5</th>\n",
              "      <td>5</td>\n",
              "      <td>15.261705</td>\n",
              "    </tr>\n",
              "    <tr>\n",
              "      <th>6</th>\n",
              "      <td>6</td>\n",
              "      <td>15.837871</td>\n",
              "    </tr>\n",
              "    <tr>\n",
              "      <th>7</th>\n",
              "      <td>7</td>\n",
              "      <td>10.909946</td>\n",
              "    </tr>\n",
              "    <tr>\n",
              "      <th>8</th>\n",
              "      <td>8</td>\n",
              "      <td>13.093999</td>\n",
              "    </tr>\n",
              "    <tr>\n",
              "      <th>9</th>\n",
              "      <td>9</td>\n",
              "      <td>13.093472</td>\n",
              "    </tr>\n",
              "    <tr>\n",
              "      <th>10</th>\n",
              "      <td>10</td>\n",
              "      <td>13.726664</td>\n",
              "    </tr>\n",
              "    <tr>\n",
              "      <th>11</th>\n",
              "      <td>11</td>\n",
              "      <td>14.827331</td>\n",
              "    </tr>\n",
              "    <tr>\n",
              "      <th>12</th>\n",
              "      <td>12</td>\n",
              "      <td>15.023154</td>\n",
              "    </tr>\n",
              "    <tr>\n",
              "      <th>13</th>\n",
              "      <td>13</td>\n",
              "      <td>15.722402</td>\n",
              "    </tr>\n",
              "    <tr>\n",
              "      <th>14</th>\n",
              "      <td>14</td>\n",
              "      <td>10.629355</td>\n",
              "    </tr>\n",
              "    <tr>\n",
              "      <th>15</th>\n",
              "      <td>15</td>\n",
              "      <td>12.818736</td>\n",
              "    </tr>\n",
              "    <tr>\n",
              "      <th>16</th>\n",
              "      <td>16</td>\n",
              "      <td>12.793805</td>\n",
              "    </tr>\n",
              "    <tr>\n",
              "      <th>17</th>\n",
              "      <td>17</td>\n",
              "      <td>13.517920</td>\n",
              "    </tr>\n",
              "    <tr>\n",
              "      <th>18</th>\n",
              "      <td>18</td>\n",
              "      <td>14.733986</td>\n",
              "    </tr>\n",
              "    <tr>\n",
              "      <th>19</th>\n",
              "      <td>19</td>\n",
              "      <td>15.041654</td>\n",
              "    </tr>\n",
              "  </tbody>\n",
              "</table>\n",
              "</div>\n",
              "      <button class=\"colab-df-convert\" onclick=\"convertToInteractive('df-f389291e-0a5b-432b-8a4b-f84613ed4783')\"\n",
              "              title=\"Convert this dataframe to an interactive table.\"\n",
              "              style=\"display:none;\">\n",
              "        \n",
              "  <svg xmlns=\"http://www.w3.org/2000/svg\" height=\"24px\"viewBox=\"0 0 24 24\"\n",
              "       width=\"24px\">\n",
              "    <path d=\"M0 0h24v24H0V0z\" fill=\"none\"/>\n",
              "    <path d=\"M18.56 5.44l.94 2.06.94-2.06 2.06-.94-2.06-.94-.94-2.06-.94 2.06-2.06.94zm-11 1L8.5 8.5l.94-2.06 2.06-.94-2.06-.94L8.5 2.5l-.94 2.06-2.06.94zm10 10l.94 2.06.94-2.06 2.06-.94-2.06-.94-.94-2.06-.94 2.06-2.06.94z\"/><path d=\"M17.41 7.96l-1.37-1.37c-.4-.4-.92-.59-1.43-.59-.52 0-1.04.2-1.43.59L10.3 9.45l-7.72 7.72c-.78.78-.78 2.05 0 2.83L4 21.41c.39.39.9.59 1.41.59.51 0 1.02-.2 1.41-.59l7.78-7.78 2.81-2.81c.8-.78.8-2.07 0-2.86zM5.41 20L4 18.59l7.72-7.72 1.47 1.35L5.41 20z\"/>\n",
              "  </svg>\n",
              "      </button>\n",
              "      \n",
              "  <style>\n",
              "    .colab-df-container {\n",
              "      display:flex;\n",
              "      flex-wrap:wrap;\n",
              "      gap: 12px;\n",
              "    }\n",
              "\n",
              "    .colab-df-convert {\n",
              "      background-color: #E8F0FE;\n",
              "      border: none;\n",
              "      border-radius: 50%;\n",
              "      cursor: pointer;\n",
              "      display: none;\n",
              "      fill: #1967D2;\n",
              "      height: 32px;\n",
              "      padding: 0 0 0 0;\n",
              "      width: 32px;\n",
              "    }\n",
              "\n",
              "    .colab-df-convert:hover {\n",
              "      background-color: #E2EBFA;\n",
              "      box-shadow: 0px 1px 2px rgba(60, 64, 67, 0.3), 0px 1px 3px 1px rgba(60, 64, 67, 0.15);\n",
              "      fill: #174EA6;\n",
              "    }\n",
              "\n",
              "    [theme=dark] .colab-df-convert {\n",
              "      background-color: #3B4455;\n",
              "      fill: #D2E3FC;\n",
              "    }\n",
              "\n",
              "    [theme=dark] .colab-df-convert:hover {\n",
              "      background-color: #434B5C;\n",
              "      box-shadow: 0px 1px 3px 1px rgba(0, 0, 0, 0.15);\n",
              "      filter: drop-shadow(0px 1px 2px rgba(0, 0, 0, 0.3));\n",
              "      fill: #FFFFFF;\n",
              "    }\n",
              "  </style>\n",
              "\n",
              "      <script>\n",
              "        const buttonEl =\n",
              "          document.querySelector('#df-f389291e-0a5b-432b-8a4b-f84613ed4783 button.colab-df-convert');\n",
              "        buttonEl.style.display =\n",
              "          google.colab.kernel.accessAllowed ? 'block' : 'none';\n",
              "\n",
              "        async function convertToInteractive(key) {\n",
              "          const element = document.querySelector('#df-f389291e-0a5b-432b-8a4b-f84613ed4783');\n",
              "          const dataTable =\n",
              "            await google.colab.kernel.invokeFunction('convertToInteractive',\n",
              "                                                     [key], {});\n",
              "          if (!dataTable) return;\n",
              "\n",
              "          const docLinkHtml = 'Like what you see? Visit the ' +\n",
              "            '<a target=\"_blank\" href=https://colab.research.google.com/notebooks/data_table.ipynb>data table notebook</a>'\n",
              "            + ' to learn more about interactive tables.';\n",
              "          element.innerHTML = '';\n",
              "          dataTable['output_type'] = 'display_data';\n",
              "          await google.colab.output.renderOutput(dataTable, element);\n",
              "          const docLink = document.createElement('div');\n",
              "          docLink.innerHTML = docLinkHtml;\n",
              "          element.appendChild(docLink);\n",
              "        }\n",
              "      </script>\n",
              "    </div>\n",
              "  </div>\n",
              "  "
            ],
            "text/plain": [
              "    id      sales\n",
              "0    0  10.861279\n",
              "1    1  13.151382\n",
              "2    2  13.281030\n",
              "3    3  13.805656\n",
              "4    4  14.970785\n",
              "5    5  15.261705\n",
              "6    6  15.837871\n",
              "7    7  10.909946\n",
              "8    8  13.093999\n",
              "9    9  13.093472\n",
              "10  10  13.726664\n",
              "11  11  14.827331\n",
              "12  12  15.023154\n",
              "13  13  15.722402\n",
              "14  14  10.629355\n",
              "15  15  12.818736\n",
              "16  16  12.793805\n",
              "17  17  13.517920\n",
              "18  18  14.733986\n",
              "19  19  15.041654"
            ]
          },
          "metadata": {},
          "execution_count": 104
        }
      ]
    }
  ]
}